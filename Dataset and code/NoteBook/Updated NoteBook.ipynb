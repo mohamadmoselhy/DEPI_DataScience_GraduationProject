{
 "cells": [
  {
   "cell_type": "code",
   "execution_count": 1,
   "id": "e0688c9f",
   "metadata": {},
   "outputs": [],
   "source": [
    "import pandas as pd"
   ]
  },
  {
   "cell_type": "code",
   "execution_count": 2,
   "id": "1d91e97b",
   "metadata": {},
   "outputs": [],
   "source": [
    "import MyMachineLearningLib as ML\n",
    "import MyDataUitlsLib as UL"
   ]
  },
  {
   "cell_type": "code",
   "execution_count": 3,
   "id": "63673424",
   "metadata": {},
   "outputs": [],
   "source": [
    "FilePath='D:\\My drive\\Course\\Data Science\\Projects\\Graduation Projects\\DataAnalysis_DEPI_GraduationProject\\old_GraduationProject\\Dataset and code\\DataSet\\CleanedDataSet\\cleaned_dataset.csv'\n",
    "df=UL.load_data(FilePath)"
   ]
  },
  {
   "cell_type": "code",
   "execution_count": 4,
   "id": "5e7abafb",
   "metadata": {},
   "outputs": [
    {
     "data": {
      "text/plain": [
       "Index(['creditscore', 'geography', 'gender', 'age   ', 'tenure_ mo', 'balance',\n",
       "       'numofproducts', 'hascrcard', 'isactivemember', 'estimatedsalary121',\n",
       "       'exited'],\n",
       "      dtype='object')"
      ]
     },
     "execution_count": 4,
     "metadata": {},
     "output_type": "execute_result"
    }
   ],
   "source": [
    "df.columns"
   ]
  },
  {
   "cell_type": "code",
   "execution_count": 4,
   "id": "e8b06878",
   "metadata": {},
   "outputs": [
    {
     "data": {
      "text/html": [
       "<style type=\"text/css\">\n",
       "#T_484c2 th {\n",
       "  text-align: left;\n",
       "}\n",
       "#T_484c2_row0_col0, #T_484c2_row0_col1, #T_484c2_row1_col0, #T_484c2_row1_col1, #T_484c2_row2_col0, #T_484c2_row2_col1, #T_484c2_row3_col0, #T_484c2_row3_col1, #T_484c2_row4_col0, #T_484c2_row4_col1, #T_484c2_row5_col0, #T_484c2_row5_col1, #T_484c2_row6_col0, #T_484c2_row6_col1, #T_484c2_row7_col0, #T_484c2_row7_col1, #T_484c2_row8_col0, #T_484c2_row8_col1, #T_484c2_row9_col0, #T_484c2_row9_col1, #T_484c2_row10_col0, #T_484c2_row10_col1, #T_484c2_row11_col0, #T_484c2_row11_col1, #T_484c2_row12_col0, #T_484c2_row12_col1, #T_484c2_row13_col0, #T_484c2_row13_col1 {\n",
       "  text-align: left;\n",
       "}\n",
       "</style>\n",
       "<table id=\"T_484c2\">\n",
       "  <thead>\n",
       "    <tr>\n",
       "      <th class=\"blank level0\" >&nbsp;</th>\n",
       "      <th id=\"T_484c2_level0_col0\" class=\"col_heading level0 col0\" >Column Name</th>\n",
       "      <th id=\"T_484c2_level0_col1\" class=\"col_heading level0 col1\" >Description</th>\n",
       "    </tr>\n",
       "  </thead>\n",
       "  <tbody>\n",
       "    <tr>\n",
       "      <th id=\"T_484c2_level0_row0\" class=\"row_heading level0 row0\" >0</th>\n",
       "      <td id=\"T_484c2_row0_col0\" class=\"data row0 col0\" >RowNumber</td>\n",
       "      <td id=\"T_484c2_row0_col1\" class=\"data row0 col1\" >A unique identifer for each record.</td>\n",
       "    </tr>\n",
       "    <tr>\n",
       "      <th id=\"T_484c2_level0_row1\" class=\"row_heading level0 row1\" >1</th>\n",
       "      <td id=\"T_484c2_row1_col0\" class=\"data row1 col0\" >Customer ID</td>\n",
       "      <td id=\"T_484c2_row1_col1\" class=\"data row1 col1\" >A unique identifier for each customer.</td>\n",
       "    </tr>\n",
       "    <tr>\n",
       "      <th id=\"T_484c2_level0_row2\" class=\"row_heading level0 row2\" >2</th>\n",
       "      <td id=\"T_484c2_row2_col0\" class=\"data row2 col0\" >Surname</td>\n",
       "      <td id=\"T_484c2_row2_col1\" class=\"data row2 col1\" >The customer's surname or last name.</td>\n",
       "    </tr>\n",
       "    <tr>\n",
       "      <th id=\"T_484c2_level0_row3\" class=\"row_heading level0 row3\" >3</th>\n",
       "      <td id=\"T_484c2_row3_col0\" class=\"data row3 col0\" >Credit Score</td>\n",
       "      <td id=\"T_484c2_row3_col1\" class=\"data row3 col1\" >A numerical value representing the customer's credit score.</td>\n",
       "    </tr>\n",
       "    <tr>\n",
       "      <th id=\"T_484c2_level0_row4\" class=\"row_heading level0 row4\" >4</th>\n",
       "      <td id=\"T_484c2_row4_col0\" class=\"data row4 col0\" >Geography</td>\n",
       "      <td id=\"T_484c2_row4_col1\" class=\"data row4 col1\" >The country where the customer resides (France, Spain, or Germany).</td>\n",
       "    </tr>\n",
       "    <tr>\n",
       "      <th id=\"T_484c2_level0_row5\" class=\"row_heading level0 row5\" >5</th>\n",
       "      <td id=\"T_484c2_row5_col0\" class=\"data row5 col0\" >Gender</td>\n",
       "      <td id=\"T_484c2_row5_col1\" class=\"data row5 col1\" >The customer's gender (Male or Female).</td>\n",
       "    </tr>\n",
       "    <tr>\n",
       "      <th id=\"T_484c2_level0_row6\" class=\"row_heading level0 row6\" >6</th>\n",
       "      <td id=\"T_484c2_row6_col0\" class=\"data row6 col0\" >Age</td>\n",
       "      <td id=\"T_484c2_row6_col1\" class=\"data row6 col1\" >The customer's age.</td>\n",
       "    </tr>\n",
       "    <tr>\n",
       "      <th id=\"T_484c2_level0_row7\" class=\"row_heading level0 row7\" >7</th>\n",
       "      <td id=\"T_484c2_row7_col0\" class=\"data row7 col0\" >Tenure</td>\n",
       "      <td id=\"T_484c2_row7_col1\" class=\"data row7 col1\" >The number of years the customer has been with the bank.</td>\n",
       "    </tr>\n",
       "    <tr>\n",
       "      <th id=\"T_484c2_level0_row8\" class=\"row_heading level0 row8\" >8</th>\n",
       "      <td id=\"T_484c2_row8_col0\" class=\"data row8 col0\" >Balance</td>\n",
       "      <td id=\"T_484c2_row8_col1\" class=\"data row8 col1\" >The customer's account balance.</td>\n",
       "    </tr>\n",
       "    <tr>\n",
       "      <th id=\"T_484c2_level0_row9\" class=\"row_heading level0 row9\" >9</th>\n",
       "      <td id=\"T_484c2_row9_col0\" class=\"data row9 col0\" >NumOfProducts</td>\n",
       "      <td id=\"T_484c2_row9_col1\" class=\"data row9 col1\" >The number of bank products the customer uses (e.g., savings account, credit card).</td>\n",
       "    </tr>\n",
       "    <tr>\n",
       "      <th id=\"T_484c2_level0_row10\" class=\"row_heading level0 row10\" >10</th>\n",
       "      <td id=\"T_484c2_row10_col0\" class=\"data row10 col0\" >HasCrCard</td>\n",
       "      <td id=\"T_484c2_row10_col1\" class=\"data row10 col1\" >Whether the customer has a credit card (1 = yes, 0 = no).</td>\n",
       "    </tr>\n",
       "    <tr>\n",
       "      <th id=\"T_484c2_level0_row11\" class=\"row_heading level0 row11\" >11</th>\n",
       "      <td id=\"T_484c2_row11_col0\" class=\"data row11 col0\" >IsActiveMember</td>\n",
       "      <td id=\"T_484c2_row11_col1\" class=\"data row11 col1\" >Whether the customer is an active member (1 = yes, 0 = no).</td>\n",
       "    </tr>\n",
       "    <tr>\n",
       "      <th id=\"T_484c2_level0_row12\" class=\"row_heading level0 row12\" >12</th>\n",
       "      <td id=\"T_484c2_row12_col0\" class=\"data row12 col0\" >EstimatedSalary</td>\n",
       "      <td id=\"T_484c2_row12_col1\" class=\"data row12 col1\" >The estimated salary of the customer.</td>\n",
       "    </tr>\n",
       "    <tr>\n",
       "      <th id=\"T_484c2_level0_row13\" class=\"row_heading level0 row13\" >13</th>\n",
       "      <td id=\"T_484c2_row13_col0\" class=\"data row13 col0\" >Exited</td>\n",
       "      <td id=\"T_484c2_row13_col1\" class=\"data row13 col1\" >Whether the customer has churned (1 = yes, 0 = no).</td>\n",
       "    </tr>\n",
       "  </tbody>\n",
       "</table>\n"
      ],
      "text/plain": [
       "<pandas.io.formats.style.Styler at 0x28c5556f6d0>"
      ]
     },
     "metadata": {},
     "output_type": "display_data"
    }
   ],
   "source": [
    "# Create a dictionary with column descriptions\n",
    "column_descriptions = {\n",
    "    \"RowNumber\" : \"A unique identifer for each record.\",\n",
    "    \"Customer ID\": \"A unique identifier for each customer.\",\n",
    "    \"Surname\": \"The customer's surname or last name.\",\n",
    "    \"Credit Score\": \"A numerical value representing the customer's credit score.\",\n",
    "    \"Geography\": \"The country where the customer resides (France, Spain, or Germany).\",\n",
    "    \"Gender\": \"The customer's gender (Male or Female).\",\n",
    "    \"Age\": \"The customer's age.\",\n",
    "    \"Tenure\": \"The number of years the customer has been with the bank.\",\n",
    "    \"Balance\": \"The customer's account balance.\",\n",
    "    \"NumOfProducts\": \"The number of bank products the customer uses (e.g., savings account, credit card).\",\n",
    "    \"HasCrCard\": \"Whether the customer has a credit card (1 = yes, 0 = no).\",\n",
    "    \"IsActiveMember\": \"Whether the customer is an active member (1 = yes, 0 = no).\",\n",
    "    \"EstimatedSalary\": \"The estimated salary of the customer.\",\n",
    "    \"Exited\": \"Whether the customer has churned (1 = yes, 0 = no).\"\n",
    "}\n",
    "\n",
    "# Convert dictionary to DataFrame\n",
    "columns_info = pd.DataFrame(column_descriptions.items(), columns=[\"Column Name\", \"Description\"])\n",
    "\n",
    "# Apply styling: Left-align text and ensure column headers are fully visible\n",
    "styled_table = columns_info.style.set_properties(**{'text-align': 'left'}).set_table_styles(\n",
    "    [{'selector': 'th', 'props': [('text-align', 'left')]}]\n",
    ")\n",
    "\n",
    "# Display the styled table\n",
    "display(styled_table)\n"
   ]
  },
  {
   "cell_type": "code",
   "execution_count": 5,
   "id": "61f377d5",
   "metadata": {},
   "outputs": [
    {
     "name": "stdout",
     "output_type": "stream",
     "text": [
      "=============================================================================\n",
      "Missing Data Percentage:\n",
      "creditscore           0.0\n",
      "geography             0.0\n",
      "gender                0.0\n",
      "age                   0.0\n",
      "tenure_ mo            0.0\n",
      "balance               0.0\n",
      "numofproducts         0.0\n",
      "hascrcard             0.0\n",
      "isactivemember        0.0\n",
      "estimatedsalary121    0.0\n",
      "exited                0.0\n",
      "dtype: float64\n",
      "=============================================================================\n",
      "\n",
      "Duplicate Row Count:\n",
      "0\n",
      "=============================================================================\n",
      "\n",
      "Data Info:\n",
      "<class 'pandas.core.frame.DataFrame'>\n",
      "RangeIndex: 9881 entries, 0 to 9880\n",
      "Data columns (total 11 columns):\n",
      " #   Column              Non-Null Count  Dtype  \n",
      "---  ------              --------------  -----  \n",
      " 0   creditscore         9881 non-null   int64  \n",
      " 1   geography           9881 non-null   object \n",
      " 2   gender              9881 non-null   object \n",
      " 3   age                 9881 non-null   float64\n",
      " 4   tenure_ mo          9881 non-null   int64  \n",
      " 5   balance             9881 non-null   float64\n",
      " 6   numofproducts       9881 non-null   int64  \n",
      " 7   hascrcard           9881 non-null   int64  \n",
      " 8   isactivemember      9881 non-null   int64  \n",
      " 9   estimatedsalary121  9881 non-null   float64\n",
      " 10  exited              9881 non-null   int64  \n",
      "dtypes: float64(3), int64(6), object(2)\n",
      "memory usage: 849.3+ KB\n",
      "None\n",
      "=============================================================================\n",
      "\n",
      "Shape of DataFrame:\n",
      "(9881, 11)\n",
      "=============================================================================\n",
      "\n",
      "Unique Values Count (sorted):\n",
      "gender                   2\n",
      "hascrcard                2\n",
      "exited                   2\n",
      "isactivemember           2\n",
      "geography                3\n",
      "numofproducts            4\n",
      "tenure_ mo              11\n",
      "age                     73\n",
      "creditscore            460\n",
      "balance               6314\n",
      "estimatedsalary121    9880\n",
      "dtype: int64\n",
      "=============================================================================\n",
      "\n",
      "Descriptive Statistics (for numerical columns):\n",
      "       creditscore       age      tenure_ mo        balance  numofproducts  \\\n",
      "count  9881.000000  9881.000000  9881.000000    9881.000000    9881.000000   \n",
      "mean    650.417974    38.914283     5.010626   76599.007491       1.530108   \n",
      "std      96.639869    10.490585     2.892190   62393.461429       0.582582   \n",
      "min     350.000000    18.000000     0.000000       0.000000       1.000000   \n",
      "25%     584.000000    32.000000     3.000000       0.000000       1.000000   \n",
      "50%     652.000000    37.000000     5.000000   97286.160000       1.000000   \n",
      "75%     717.000000    44.000000     7.000000  127738.750000       2.000000   \n",
      "max     850.000000    92.000000    10.000000  250898.090000       4.000000   \n",
      "\n",
      "         hascrcard  isactivemember  estimatedsalary121       exited  \n",
      "count  9881.000000     9881.000000         9881.000000  9881.000000  \n",
      "mean      0.705394        0.515130       101259.544502     0.204028  \n",
      "std       0.455888        0.499796        56839.634430     0.403010  \n",
      "min       0.000000        0.000000         2101.890000     0.000000  \n",
      "25%       0.000000        0.000000        52795.150000     0.000000  \n",
      "50%       1.000000        1.000000       101168.900000     0.000000  \n",
      "75%       1.000000        1.000000       149697.780000     0.000000  \n",
      "max       1.000000        1.000000       199992.480000     1.000000  \n",
      "=============================================================================\n"
     ]
    }
   ],
   "source": [
    "UL.DataFrameStatistics(df).statistics()"
   ]
  },
  {
   "cell_type": "code",
   "execution_count": 6,
   "id": "8fb6a7ec",
   "metadata": {},
   "outputs": [
    {
     "data": {
      "text/plain": [
       "Index(['creditscore', 'geography', 'gender', 'age   ', 'tenure_ mo', 'balance',\n",
       "       'numofproducts', 'hascrcard', 'isactivemember', 'estimatedsalary121',\n",
       "       'exited'],\n",
       "      dtype='object')"
      ]
     },
     "execution_count": 6,
     "metadata": {},
     "output_type": "execute_result"
    }
   ],
   "source": [
    "df.columns"
   ]
  },
  {
   "cell_type": "code",
   "execution_count": null,
   "id": "caa301f8",
   "metadata": {},
   "outputs": [],
   "source": []
  }
 ],
 "metadata": {
  "kernelspec": {
   "display_name": "Python 3",
   "language": "python",
   "name": "python3"
  },
  "language_info": {
   "codemirror_mode": {
    "name": "ipython",
    "version": 3
   },
   "file_extension": ".py",
   "mimetype": "text/x-python",
   "name": "python",
   "nbconvert_exporter": "python",
   "pygments_lexer": "ipython3",
   "version": "3.11.3"
  }
 },
 "nbformat": 4,
 "nbformat_minor": 5
}
